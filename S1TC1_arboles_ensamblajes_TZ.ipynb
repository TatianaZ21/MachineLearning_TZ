{
 "cells": [
  {
   "cell_type": "markdown",
   "metadata": {},
   "source": [
    "![image info](https://raw.githubusercontent.com/albahnsen/MIAD_ML_and_NLP/main/images/banner_1.png)"
   ]
  },
  {
   "cell_type": "markdown",
   "metadata": {},
   "source": [
    "# Taller: Construcción e implementación de árboles de decisión y métodos de ensamblaje\n",
    "\n",
    "En este taller podrá poner en práctica los sus conocimientos sobre construcción e implementación de árboles de decisión y métodos de ensamblajes. El taller está constituido por 9 puntos, 5 relacionados con árboles de decisión (parte A) y 4 con métodos de ensamblaje (parte B)."
   ]
  },
  {
   "cell_type": "markdown",
   "metadata": {},
   "source": [
    "## Parte A - Árboles de decisión\n",
    "\n",
    "En esta parte del taller se usará el conjunto de datos de Capital Bikeshare de Kaggle, donde cada observación representa el alquiler de bicicletas durante una hora y día determinado. Para más detalles puede visitar los siguientes enlaces: [datos](https://archive.ics.uci.edu/ml/machine-learning-databases/00275/Bike-Sharing-Dataset.zip), [dicccionario de datos](https://archive.ics.uci.edu/ml/datasets/Bike+Sharing+Dataset#)."
   ]
  },
  {
   "cell_type": "markdown",
   "metadata": {},
   "source": [
    "### Datos prestamo de bicicletas"
   ]
  },
  {
   "cell_type": "code",
   "execution_count": 2,
   "metadata": {},
   "outputs": [],
   "source": [
    "import warnings\n",
    "warnings.filterwarnings('ignore')"
   ]
  },
  {
   "cell_type": "code",
   "execution_count": 3,
   "metadata": {},
   "outputs": [],
   "source": [
    "# Importación de librerías\n",
    "%matplotlib inline\n",
    "import pandas as pd\n",
    "import numpy as np\n",
    "from sklearn.model_selection import cross_val_score\n",
    "from sklearn.linear_model import LinearRegression\n",
    "from sklearn.tree import DecisionTreeRegressor, export_graphviz"
   ]
  },
  {
   "cell_type": "code",
   "execution_count": 4,
   "metadata": {},
   "outputs": [
    {
     "data": {
      "text/html": [
       "<div>\n",
       "<style scoped>\n",
       "    .dataframe tbody tr th:only-of-type {\n",
       "        vertical-align: middle;\n",
       "    }\n",
       "\n",
       "    .dataframe tbody tr th {\n",
       "        vertical-align: top;\n",
       "    }\n",
       "\n",
       "    .dataframe thead th {\n",
       "        text-align: right;\n",
       "    }\n",
       "</style>\n",
       "<table border=\"1\" class=\"dataframe\">\n",
       "  <thead>\n",
       "    <tr style=\"text-align: right;\">\n",
       "      <th></th>\n",
       "      <th>season</th>\n",
       "      <th>holiday</th>\n",
       "      <th>workingday</th>\n",
       "      <th>weather</th>\n",
       "      <th>temp</th>\n",
       "      <th>atemp</th>\n",
       "      <th>humidity</th>\n",
       "      <th>windspeed</th>\n",
       "      <th>casual</th>\n",
       "      <th>registered</th>\n",
       "      <th>total</th>\n",
       "      <th>hour</th>\n",
       "    </tr>\n",
       "    <tr>\n",
       "      <th>datetime</th>\n",
       "      <th></th>\n",
       "      <th></th>\n",
       "      <th></th>\n",
       "      <th></th>\n",
       "      <th></th>\n",
       "      <th></th>\n",
       "      <th></th>\n",
       "      <th></th>\n",
       "      <th></th>\n",
       "      <th></th>\n",
       "      <th></th>\n",
       "      <th></th>\n",
       "    </tr>\n",
       "  </thead>\n",
       "  <tbody>\n",
       "    <tr>\n",
       "      <th>2011-01-01 00:00:00</th>\n",
       "      <td>1</td>\n",
       "      <td>0</td>\n",
       "      <td>0</td>\n",
       "      <td>1</td>\n",
       "      <td>9.84</td>\n",
       "      <td>14.395</td>\n",
       "      <td>81</td>\n",
       "      <td>0.0</td>\n",
       "      <td>3</td>\n",
       "      <td>13</td>\n",
       "      <td>16</td>\n",
       "      <td>0</td>\n",
       "    </tr>\n",
       "    <tr>\n",
       "      <th>2011-01-01 01:00:00</th>\n",
       "      <td>1</td>\n",
       "      <td>0</td>\n",
       "      <td>0</td>\n",
       "      <td>1</td>\n",
       "      <td>9.02</td>\n",
       "      <td>13.635</td>\n",
       "      <td>80</td>\n",
       "      <td>0.0</td>\n",
       "      <td>8</td>\n",
       "      <td>32</td>\n",
       "      <td>40</td>\n",
       "      <td>1</td>\n",
       "    </tr>\n",
       "    <tr>\n",
       "      <th>2011-01-01 02:00:00</th>\n",
       "      <td>1</td>\n",
       "      <td>0</td>\n",
       "      <td>0</td>\n",
       "      <td>1</td>\n",
       "      <td>9.02</td>\n",
       "      <td>13.635</td>\n",
       "      <td>80</td>\n",
       "      <td>0.0</td>\n",
       "      <td>5</td>\n",
       "      <td>27</td>\n",
       "      <td>32</td>\n",
       "      <td>2</td>\n",
       "    </tr>\n",
       "    <tr>\n",
       "      <th>2011-01-01 03:00:00</th>\n",
       "      <td>1</td>\n",
       "      <td>0</td>\n",
       "      <td>0</td>\n",
       "      <td>1</td>\n",
       "      <td>9.84</td>\n",
       "      <td>14.395</td>\n",
       "      <td>75</td>\n",
       "      <td>0.0</td>\n",
       "      <td>3</td>\n",
       "      <td>10</td>\n",
       "      <td>13</td>\n",
       "      <td>3</td>\n",
       "    </tr>\n",
       "    <tr>\n",
       "      <th>2011-01-01 04:00:00</th>\n",
       "      <td>1</td>\n",
       "      <td>0</td>\n",
       "      <td>0</td>\n",
       "      <td>1</td>\n",
       "      <td>9.84</td>\n",
       "      <td>14.395</td>\n",
       "      <td>75</td>\n",
       "      <td>0.0</td>\n",
       "      <td>0</td>\n",
       "      <td>1</td>\n",
       "      <td>1</td>\n",
       "      <td>4</td>\n",
       "    </tr>\n",
       "  </tbody>\n",
       "</table>\n",
       "</div>"
      ],
      "text/plain": [
       "                     season  holiday  workingday  weather  temp   atemp  \\\n",
       "datetime                                                                  \n",
       "2011-01-01 00:00:00       1        0           0        1  9.84  14.395   \n",
       "2011-01-01 01:00:00       1        0           0        1  9.02  13.635   \n",
       "2011-01-01 02:00:00       1        0           0        1  9.02  13.635   \n",
       "2011-01-01 03:00:00       1        0           0        1  9.84  14.395   \n",
       "2011-01-01 04:00:00       1        0           0        1  9.84  14.395   \n",
       "\n",
       "                     humidity  windspeed  casual  registered  total  hour  \n",
       "datetime                                                                   \n",
       "2011-01-01 00:00:00        81        0.0       3          13     16     0  \n",
       "2011-01-01 01:00:00        80        0.0       8          32     40     1  \n",
       "2011-01-01 02:00:00        80        0.0       5          27     32     2  \n",
       "2011-01-01 03:00:00        75        0.0       3          10     13     3  \n",
       "2011-01-01 04:00:00        75        0.0       0           1      1     4  "
      ]
     },
     "execution_count": 4,
     "metadata": {},
     "output_type": "execute_result"
    }
   ],
   "source": [
    "# Lectura de la información de archivo .csv\n",
    "bikes = pd.read_csv('https://raw.githubusercontent.com/davidzarruk/MIAD_ML_NLP_2023/main/datasets/bikeshare.csv', index_col='datetime', parse_dates=True)\n",
    "\n",
    "# Renombrar variable \"count\" a \"total\"\n",
    "bikes.rename(columns={'count':'total'}, inplace=True)\n",
    "\n",
    "# Crear la hora como una variable \n",
    "bikes['hour'] = bikes.index.hour\n",
    "\n",
    "# Visualización de los datos\n",
    "bikes.head()"
   ]
  },
  {
   "cell_type": "markdown",
   "metadata": {},
   "source": [
    "### Punto 1 - Análisis descriptivo\n",
    "\n",
    "Ejecute las celdas 1.1 y 1.2. A partir de los resultados realice un análisis descriptivo sobre las variables \"season\" y \"hour\", escriba sus inferencias sobre los datos. Para complementar su análisis puede usar métricas como máximo, mínimo, percentiles entre otros."
   ]
  },
  {
   "cell_type": "code",
   "execution_count": 7,
   "metadata": {},
   "outputs": [
    {
     "name": "stdout",
     "output_type": "stream",
     "text": [
      "season\n",
      "1    116.343261\n",
      "2    215.251372\n",
      "3    234.417124\n",
      "4    198.988296\n",
      "Name: total, dtype: float64\n",
      "\n",
      "Análisis de la distribución de observaciones en la variable 'season'\n",
      "season\n",
      "4    2734\n",
      "2    2733\n",
      "3    2733\n",
      "1    2686\n",
      "Name: count, dtype: int64\n"
     ]
    }
   ],
   "source": [
    "# Celda 1.1\n",
    "print(bikes.groupby('season').total.mean())\n",
    "\n",
    "## Análisis adicionales\n",
    "print(\"\")\n",
    "print(\"Análisis de la distribución de observaciones en la variable 'season'\")\n",
    "print(pd.value_counts(bikes['season']))"
   ]
  },
  {
   "cell_type": "code",
   "execution_count": 8,
   "metadata": {
    "scrolled": true
   },
   "outputs": [
    {
     "name": "stdout",
     "output_type": "stream",
     "text": [
      "hour\n",
      "0      55.138462\n",
      "1      33.859031\n",
      "2      22.899554\n",
      "3      11.757506\n",
      "4       6.407240\n",
      "5      19.767699\n",
      "6      76.259341\n",
      "7     213.116484\n",
      "8     362.769231\n",
      "9     221.780220\n",
      "10    175.092308\n",
      "11    210.674725\n",
      "12    256.508772\n",
      "13    257.787281\n",
      "14    243.442982\n",
      "15    254.298246\n",
      "16    316.372807\n",
      "17    468.765351\n",
      "18    430.859649\n",
      "19    315.278509\n",
      "20    228.517544\n",
      "21    173.370614\n",
      "22    133.576754\n",
      "23     89.508772\n",
      "Name: total, dtype: float64\n",
      "\n",
      "Mínimo\n",
      "6.407239819004525\n",
      "\n",
      "Máximo\n",
      "468.765350877193\n",
      "\n",
      "Análisis de la distribución de observaciones en la variable 'hour'\n",
      "      count        mean         std   min     25%    50%     75%    max\n",
      "hour                                                                   \n",
      "0     455.0   55.138462   43.620012   2.0   24.00   41.0   74.50  283.0\n",
      "1     454.0   33.859031   34.112105   1.0   11.00   19.0   46.00  168.0\n",
      "2     448.0   22.899554   26.110267   1.0    5.00   11.0   32.00  119.0\n",
      "3     433.0   11.757506   12.666442   1.0    3.00    6.0   15.00   66.0\n",
      "4     442.0    6.407240    4.217633   1.0    3.00    6.0    9.00   28.0\n",
      "5     452.0   19.767699   12.784293   1.0    8.00   19.0   29.00   57.0\n",
      "6     455.0   76.259341   54.745333   1.0   24.50   75.0  118.00  213.0\n",
      "7     455.0  213.116484  159.207044   1.0   63.00  208.0  334.00  596.0\n",
      "8     455.0  362.769231  231.723065   8.0  133.50  392.0  563.50  839.0\n",
      "9     455.0  221.780220   92.099209  14.0  161.00  217.0  294.50  414.0\n",
      "10    455.0  175.092308  101.807629  17.0  106.00  149.0  218.50  539.0\n",
      "11    455.0  210.674725  127.444294  10.0  123.00  183.0  265.50  647.0\n",
      "12    456.0  256.508772  143.881880   3.0  157.00  234.5  332.00  757.0\n",
      "13    456.0  257.787281  149.167185  11.0  154.00  226.5  329.00  729.0\n",
      "14    456.0  243.442982  147.563199  12.0  144.00  212.0  311.25  730.0\n",
      "15    456.0  254.298246  144.235670   7.0  154.00  232.0  331.00  724.0\n",
      "16    456.0  316.372807  145.664786  11.0  211.75  309.5  421.00  783.0\n",
      "17    456.0  468.765351  223.775485  15.0  277.00  480.5  608.50  970.0\n",
      "18    456.0  430.859649  219.908138  23.0  240.75  422.5  564.00  977.0\n",
      "19    456.0  315.278509  156.641732  11.0  190.00  312.5  416.00  743.0\n",
      "20    456.0  228.517544  116.411565  11.0  136.75  224.0  302.00  551.0\n",
      "21    456.0  173.370614   87.629319   6.0  103.50  171.5  230.00  584.0\n",
      "22    456.0  133.576754   69.844495   9.0   80.00  129.0  175.00  502.0\n",
      "23    456.0   89.508772   51.638004   4.0   52.75   80.0  123.00  256.0\n"
     ]
    }
   ],
   "source": [
    "# Celda 1.2\n",
    "print(bikes.groupby('hour').total.mean())\n",
    "\n",
    "## Análisis adicioanles\n",
    "print(\"\")\n",
    "print(\"Mínimo\")\n",
    "print(min(bikes.groupby('hour').total.mean()))\n",
    "print(\"\")\n",
    "print(\"Máximo\")\n",
    "print(max(bikes.groupby('hour').total.mean()))\n",
    "print(\"\")\n",
    "print(\"Análisis de la distribución de observaciones en la variable 'hour'\")\n",
    "print(bikes.groupby('hour').total.describe())"
   ]
  },
  {
   "cell_type": "markdown",
   "metadata": {},
   "source": [
    "#### Variable \"season\"\n",
    "La variable \"season\" es categoríca y cuenta con 4 clases balanceadas, la moda es la \"4\" con 2734 observaciones, mientras que la clase menos frecuente es la \"1\" con 2686 observaciones. Con relación a la variable de interés, se observa que el valor promedio de alquiles de bicicletas es más alto en verano (clase \"3\"; 234), seguido de la primavera (clase \"2\"; 215) y el otoño (clase \"4\"; 199), mientras que en invierno (clase \"1\") se reduce casi a la mitad (116).\n",
    "\n",
    "#### Variable \"hour\"\n",
    "La variable \"hour\" puede ser tomada como categoríca ordinal o como númerica y representa las 24 horas del día, tomando valores entre 0 y 23, se observa que presenta un distribución más o menos balanceada a lo largo del día, con un mínimo de 433 registros por hora y un máximo de 456. En cuanto a la relación con la variable de interés, el promedio más bajo de alquiler de biciletas se da a las \"4\" (6), mientras que el promedio más alto se de a las 17 (469), en general se observa que los valores son bajos entre las \"0\" y las \"6\" y presenta su pico máximo entre las 16 y las 19."
   ]
  },
  {
   "cell_type": "markdown",
   "metadata": {},
   "source": [
    "### Punto 2 - Análisis de gráficos\n",
    "\n",
    "Primero ejecute la celda 2.1 y asegúrese de comprender el código y el resultado. Luego, en cada una de celdas 2.2 y 2.3 escriba un código que genere una gráfica del número de bicicletas rentadas promedio para cada valor de la variable \"hour\" (hora) cuando la variable \"season\" es igual a 1 (invierno) e igual a 3 (verano), respectivamente. Analice y escriba sus hallazgos."
   ]
  },
  {
   "cell_type": "code",
   "execution_count": 9,
   "metadata": {},
   "outputs": [
    {
     "data": {
      "text/plain": [
       "<Axes: xlabel='hour'>"
      ]
     },
     "execution_count": 9,
     "metadata": {},
     "output_type": "execute_result"
    },
    {
     "data": {
      "image/png": "[encoded data removed]",
      "text/plain": [
       "<Figure size 640x480 with 1 Axes>"
      ]
     },
     "metadata": {},
     "output_type": "display_data"
    }
   ],
   "source": [
    "# Celda 2.1 - rentas promedio para cada valor de la variable \"hour\"\n",
    "bikes.groupby('hour').total.mean().plot()"
   ]
  },
  {
   "cell_type": "code",
   "execution_count": 10,
   "metadata": {},
   "outputs": [
    {
     "data": {
      "text/plain": [
       "<Axes: xlabel='hour'>"
      ]
     },
     "execution_count": 10,
     "metadata": {},
     "output_type": "execute_result"
    },
    {
     "data": {
      "image/png": "[encoded data removed]",
      "text/plain": [
       "<Figure size 640x480 with 1 Axes>"
      ]
     },
     "metadata": {},
     "output_type": "display_data"
    }
   ],
   "source": [
    "# Celda 2.2 - \"season\"=1 escriba su código y hallazgos \n",
    "Invierno = bikes[bikes[\"season\"] == 1]\n",
    "Invierno.groupby('hour').total.mean().plot()"
   ]
  },
  {
   "cell_type": "code",
   "execution_count": 11,
   "metadata": {},
   "outputs": [
    {
     "data": {
      "text/plain": [
       "<Axes: xlabel='hour'>"
      ]
     },
     "execution_count": 11,
     "metadata": {},
     "output_type": "execute_result"
    },
    {
     "data": {
      "image/png": "[encoded data removed]",
      "text/plain": [
       "<Figure size 640x480 with 1 Axes>"
      ]
     },
     "metadata": {},
     "output_type": "display_data"
    }
   ],
   "source": [
    "# Celda 2.3 - \"season\"=3 escriba su código y hallazgos \n",
    "Verano = bikes[bikes[\"season\"] == 3]\n",
    "Verano.groupby('hour').total.mean().plot()"
   ]
  },
  {
   "cell_type": "markdown",
   "metadata": {},
   "source": [
    "#### Renta promedio de bicicletas por hora en invierno y verano\n",
    "\n",
    "como se observa en los gráficos realizados, sin importar si es invierno o verano, el promedio de renta de bicicletas es bajo entre las 0 y las 6, luego presenta un aumento significativo con pico a las 8 y disminuye ligeramente entre las 10 y las 15, luego aumento nuevamente y presente el pico máximo sobre las 17, después del cual comienza a disminuir nuevamente, este comportamiento se considera coherente con las dinámicas de movilidad en ciudad y las horas pico. La principal diferencia que se observa es que la renta promedio de bicicletas es mucho menor durante invierno y que en esta temporada los picos que se registra a las 8 y a las 15 son mucho más cercanos."
   ]
  },
  {
   "cell_type": "markdown",
   "metadata": {},
   "source": [
    "### Punto 3 - Regresión lineal\n",
    "En la celda 3 ajuste un modelo de regresión lineal a todo el conjunto de datos, utilizando \"total\" como variable de respuesta y \"season\" y \"hour\" como las únicas variables predictoras, teniendo en cuenta que la variable \"season\" es categórica. Luego, imprima los coeficientes e interprételos. ¿Cuáles son las limitaciones de la regresión lineal en este caso?"
   ]
  },
  {
   "cell_type": "code",
   "execution_count": 179,
   "metadata": {},
   "outputs": [
    {
     "name": "stdout",
     "output_type": "stream",
     "text": [
      "[ 95.37267992 118.94705421  81.8012243   10.64406679]\n",
      "R2: 0.21915721062519355\n",
      "MSE: 26626.843544254338\n"
     ]
    }
   ],
   "source": [
    "# Celda 3\n",
    "## Importamos las libterias necesarias\n",
    "from sklearn.linear_model import LinearRegression\n",
    "from sklearn.model_selection import train_test_split\n",
    "\n",
    "## Convertimos la variable \"season\" en dummy\n",
    "bikes['season'] = bikes['season'].astype(object)\n",
    "bikes_dummy = pd.get_dummies(bikes, columns=['season'], drop_first=True)\n",
    "\n",
    "## División de datos en entrenamiento y prueba\n",
    "X = bikes_dummy[['season_2', 'season_3','season_4','hour']]\n",
    "y = bikes_dummy['total']\n",
    "X_train, X_test, y_train, y_test = train_test_split(X, y, test_size=0.2, random_state=1)\n",
    "\n",
    "## Creación y ajuste del modelo\n",
    "model = LinearRegression()\n",
    "model.fit(X_train, y_train)\n",
    "\n",
    "## Coeficientes del modelo\n",
    "print(model.coef_)\n",
    "\n",
    "### Predicciones\n",
    "y_pred = model.predict(X_test)\n",
    "\n",
    "# Evaluación del modelo\n",
    "print(\"R2:\",r2_score(y_test, y_pred))\n",
    "from sklearn.metrics import mean_squared_error\n",
    "print(\"MSE:\",mean_squared_error(y_test, y_pred, squared=True))"
   ]
  },
  {
   "cell_type": "markdown",
   "metadata": {},
   "source": [
    "#### Análisis del modelo de regresión lineal\n",
    "Según los resultados obtenidos en el modelo de regresión lineal, manteniendo la hora constante cuando la temporada es primavera \"2\" el alquiler de biciletas aumenta aproximadamente en 95, cuando es verano \"3\" aumenta aproximadamente en 119 y cuando es otoño \"a\" aumenta aproximadamente en 82. Por otra parte, manteniendo la temporada constante, cada aumento de 1 hora incrementa aproximadamente en 11 el toal de alquiler de bicicletas.\n",
    "Por otra parte, como se observa este modelo tiene un ajuste bajo. Una de las principales limitaciones de este modelo es que la variable respuesta no presenta un comportamiento lineal con respecto a las variables predictoras, lo cual hace que su desempeño sea muy bajo con un R2 de 21,9 % y un MSE de 26627, además que se requiere transformar la variable \"season\" a dummy."
   ]
  },
  {
   "cell_type": "markdown",
   "metadata": {},
   "source": [
    "### Punto 4 - Árbol de decisión manual\n",
    "En la celda 4 cree un árbol de decisiones para pronosticar la variable \"total\" iterando **manualmente** sobre las variables \"hour\" y  \"season\". El árbol debe tener al menos 6 nodos finales."
   ]
  },
  {
   "cell_type": "code",
   "execution_count": 188,
   "metadata": {},
   "outputs": [
    {
     "name": "stdout",
     "output_type": "stream",
     "text": [
      "hour\n"
     ]
    }
   ],
   "source": [
    "################## PRUEBA INICIAL PARA LA VARIABLE \"HOUR\" #############\n",
    "\n",
    "# Separación de variables predictoras (X) y variable de interes (y)\n",
    "feature_cols=['season','hour']\n",
    "X = bikes[feature_cols]\n",
    "y = bikes['total']\n",
    "\n",
    "## Dividir la base de datos en entrenamiento y prueba\n",
    "X_train, X_test, y_train, y_test = train_test_split(X, y, test_size=0.2, random_state=1)\n",
    "\n",
    "## Se seleccionará una profundidad máxima de 3\n",
    "max_depth = 3\n",
    "num_pct = 10\n",
    "\n",
    "## Seleccionamos la variable hour\n",
    "j = 1\n",
    "print(X.columns[j])\n",
    "\n",
    "### Posibles puntos de corte para la variable hour\n",
    "splits = np.percentile(X_train.iloc[:, j], np.arange(0, 100, 100.0 / num_pct).tolist())\n",
    "splits = np.unique(splits)\n",
    "splits\n",
    "\n",
    "##### PRIMERA PRUEBA: tomaremos la posición de corte 5 #####\n",
    "k=5\n",
    "filter_l = X_train.iloc[:, j] < splits[k]\n",
    "y_l_train = y_train.loc[filter_l]\n",
    "y_r_train = y_train.loc[~filter_l]\n",
    "\n",
    "### Dividimos los datos de test con la misma condición\n",
    "filter_l = X_test.iloc[:, j] < splits[k]\n",
    "y_l_test = y_test.loc[filter_l]\n",
    "y_r_test = y_test.loc[~filter_l]\n",
    "\n",
    "### Creamos la función de BEST_MSE\n",
    "def mse(X,y,split):\n",
    "    y_l = y[X < split]\n",
    "    y_r = ~y_l\n",
    "    if len (y_l) == 0 or len(y_r) == 0:\n",
    "        return float('inf')\n",
    "    mse_l = mean_squared_error(y_l, [np.mean(y_l)]*len(y_r))\n",
    "    mse_r = mean_squared_error(y_r, [np.mean(y_r)]*len(y_r))\n",
    "    return (mse_l*len(y_l)+mse_r*len(y_r))/len(y)"
   ]
  },
  {
   "cell_type": "code",
   "execution_count": 200,
   "metadata": {},
   "outputs": [],
   "source": [
    "# Definición de la función best_split para calcular cuál es la mejor variable y punto de cortepara hacer la bifurcación del árbol\n",
    "def best_split(X, y, num_pct=10): \n",
    "    features = range(X.shape[1])\n",
    "    best_split = [0, 0, float('inf')]  # j, split, mse_value\n",
    "    for j in features:  \n",
    "       splits = np.percentile(X.iloc[:, j], np.arange(0, 100, 100.0 / (num_pct+1)).tolist())\n",
    "       splits = np.unique(splits)[1:]\n",
    "        \n",
    "       for split in splits:\n",
    "           mse_value = mse(X.iloc[:,j], y,split)\n",
    "           if mse_value < best_split[2]:\n",
    "               best_split = [j, split, mse_value]\n",
    "    return best_split  \n",
    "\n",
    "# Definición de la función tree_grow para hacer un crecimiento recursivo del árbol\n",
    "def tree_grow(X, y,level=0, max_depth=10, num_pct=10):\n",
    "    \n",
    "    # Calcular la mejor división\n",
    "    j, split, mse_value = best_split(X, y, num_pct)\n",
    "    \n",
    "    # Guardar el árbol y estimar la predicción\n",
    "    y_pred = y_train.mean()\n",
    "    \n",
    "    tree = dict(y_pred=y_pred, level=level, split=-1, n_samples=X.shape[0])\n",
    "    # Revisar el criterio de parada \n",
    "    if level >= max_depth:\n",
    "        return tree   \n",
    "    \n",
    "    # Continuar creando la partición\n",
    "    filter_l = X.iloc[:, j] < split\n",
    "    X_l, y_l = X.loc[filter_l], y.loc[filter_l]\n",
    "    X_r, y_r = X.loc[~filter_l], y.loc[~filter_l]\n",
    "\n",
    "    ## verficar si hay suficientes observaciones en las ramas\n",
    "    if X_l.shape[0] == 0 or X_r.shape[0] == 0:\n",
    "        return tree\n",
    "        \n",
    "    tree['split'] = [j, split]\n",
    "\n",
    "    # Siguiente iteración para cada partición\n",
    "    \n",
    "    tree['sl'] = tree_grow(X_l, y_l, level + 1, max_depth=max_depth, num_pct=num_pct)\n",
    "    tree['sr'] = tree_grow(X_l, y_l, level + 1, max_depth=max_depth, num_pct=num_pct)\n",
    "    \n",
    "    return tree"
   ]
  },
  {
   "cell_type": "code",
   "execution_count": 201,
   "metadata": {},
   "outputs": [
    {
     "data": {
      "text/plain": [
       "{'y_pred': 190.06109324758842,\n",
       " 'level': 0,\n",
       " 'split': [1, 2.0],\n",
       " 'n_samples': 8708,\n",
       " 'sl': {'y_pred': 190.06109324758842,\n",
       "  'level': 1,\n",
       "  'split': [0, 2.0],\n",
       "  'n_samples': 723,\n",
       "  'sl': {'y_pred': 190.06109324758842,\n",
       "   'level': 2,\n",
       "   'split': [1, 1.0],\n",
       "   'n_samples': 173,\n",
       "   'sl': {'y_pred': 190.06109324758842,\n",
       "    'level': 3,\n",
       "    'split': -1,\n",
       "    'n_samples': 83},\n",
       "   'sr': {'y_pred': 190.06109324758842,\n",
       "    'level': 3,\n",
       "    'split': -1,\n",
       "    'n_samples': 83}},\n",
       "  'sr': {'y_pred': 190.06109324758842,\n",
       "   'level': 2,\n",
       "   'split': [1, 1.0],\n",
       "   'n_samples': 173,\n",
       "   'sl': {'y_pred': 190.06109324758842,\n",
       "    'level': 3,\n",
       "    'split': -1,\n",
       "    'n_samples': 83},\n",
       "   'sr': {'y_pred': 190.06109324758842,\n",
       "    'level': 3,\n",
       "    'split': -1,\n",
       "    'n_samples': 83}}},\n",
       " 'sr': {'y_pred': 190.06109324758842,\n",
       "  'level': 1,\n",
       "  'split': [0, 2.0],\n",
       "  'n_samples': 723,\n",
       "  'sl': {'y_pred': 190.06109324758842,\n",
       "   'level': 2,\n",
       "   'split': [1, 1.0],\n",
       "   'n_samples': 173,\n",
       "   'sl': {'y_pred': 190.06109324758842,\n",
       "    'level': 3,\n",
       "    'split': -1,\n",
       "    'n_samples': 83},\n",
       "   'sr': {'y_pred': 190.06109324758842,\n",
       "    'level': 3,\n",
       "    'split': -1,\n",
       "    'n_samples': 83}},\n",
       "  'sr': {'y_pred': 190.06109324758842,\n",
       "   'level': 2,\n",
       "   'split': [1, 1.0],\n",
       "   'n_samples': 173,\n",
       "   'sl': {'y_pred': 190.06109324758842,\n",
       "    'level': 3,\n",
       "    'split': -1,\n",
       "    'n_samples': 83},\n",
       "   'sr': {'y_pred': 190.06109324758842,\n",
       "    'level': 3,\n",
       "    'split': -1,\n",
       "    'n_samples': 83}}}}"
      ]
     },
     "execution_count": 201,
     "metadata": {},
     "output_type": "execute_result"
    }
   ],
   "source": [
    "tree = tree_grow(X_train,y_train, num_pct=10)\n",
    "tree"
   ]
  },
  {
   "cell_type": "code",
   "execution_count": 202,
   "metadata": {},
   "outputs": [],
   "source": [
    "# Definición de la función tree_predict para hacer predicciones según las variables 'X' y el árbol 'tree'\n",
    "\n",
    "def tree_predict(X, tree, proba=False):\n",
    "    \n",
    "    predicted = np.ones(X.shape[0])\n",
    "\n",
    "    # Revisar si es el nodo final\n",
    "    if tree['split'] == -1:\n",
    "        if not proba:\n",
    "            predicted = predicted * tree['y_pred']\n",
    "        else:\n",
    "            predicted = predicted * tree['y_prob']\n",
    "            \n",
    "    else:\n",
    "        \n",
    "        j, split = tree['split']\n",
    "        filter_l = (X.iloc[:, j] < split)\n",
    "        X_l = X.loc[filter_l]\n",
    "        X_r = X.loc[~filter_l]\n",
    "\n",
    "        if X_l.shape[0] == 0:  # Si el nodo izquierdo está vacio solo continua con el derecho \n",
    "            predicted[~filter_l] = tree_predict(X_r, tree['sr'], proba)\n",
    "        elif X_r.shape[0] == 0:  #  Si el nodo derecho está vacio solo continua con el izquierdo\n",
    "            predicted[filter_l] = tree_predict(X_l, tree['sl'], proba)\n",
    "        else:\n",
    "            predicted[filter_l] = tree_predict(X_l, tree['sl'], proba)\n",
    "            predicted[~filter_l] = tree_predict(X_r, tree['sr'], proba)\n",
    "\n",
    "    return predicted\n"
   ]
  },
  {
   "cell_type": "code",
   "execution_count": 203,
   "metadata": {},
   "outputs": [
    {
     "name": "stdout",
     "output_type": "stream",
     "text": [
      "MSE: 34157.3238496641\n"
     ]
    }
   ],
   "source": [
    "y_pred = tree_predict(X_test, tree, proba=False)\n",
    "print(\"MSE:\",mean_squared_error(y_test, y_pred, squared=True))"
   ]
  },
  {
   "cell_type": "markdown",
   "metadata": {},
   "source": [
    "### Punto 5 - Árbol de decisión con librería\n",
    "En la celda 5 entrene un árbol de decisiones con la **librería sklearn**, usando las variables predictoras \"season\" y \"hour\" y calibre los parámetros que considere conveniente para obtener un mejor desempeño. Recuerde dividir los datos en conjuntos de entrenamiento y validación para esto. Comente el desempeño del modelo con alguna métrica de desempeño de modelos de regresión y compare desempeño con el modelo del punto 3."
   ]
  },
  {
   "cell_type": "code",
   "execution_count": 176,
   "metadata": {},
   "outputs": [
    {
     "data": {
      "text/html": [
       "<div>\n",
       "<style scoped>\n",
       "    .dataframe tbody tr th:only-of-type {\n",
       "        vertical-align: middle;\n",
       "    }\n",
       "\n",
       "    .dataframe tbody tr th {\n",
       "        vertical-align: top;\n",
       "    }\n",
       "\n",
       "    .dataframe thead th {\n",
       "        text-align: right;\n",
       "    }\n",
       "</style>\n",
       "<table border=\"1\" class=\"dataframe\">\n",
       "  <thead>\n",
       "    <tr style=\"text-align: right;\">\n",
       "      <th></th>\n",
       "      <th>feature</th>\n",
       "      <th>importance</th>\n",
       "    </tr>\n",
       "  </thead>\n",
       "  <tbody>\n",
       "    <tr>\n",
       "      <th>0</th>\n",
       "      <td>season</td>\n",
       "      <td>0.206973</td>\n",
       "    </tr>\n",
       "    <tr>\n",
       "      <th>1</th>\n",
       "      <td>hour</td>\n",
       "      <td>0.793027</td>\n",
       "    </tr>\n",
       "  </tbody>\n",
       "</table>\n",
       "</div>"
      ],
      "text/plain": [
       "  feature  importance\n",
       "0  season    0.206973\n",
       "1    hour    0.793027"
      ]
     },
     "execution_count": 176,
     "metadata": {},
     "output_type": "execute_result"
    },
    {
     "data": {
      "image/png": "[encoded data removed]",
      "text/plain": [
       "<Figure size 640x480 with 1 Axes>"
      ]
     },
     "metadata": {},
     "output_type": "display_data"
    }
   ],
   "source": [
    "# Separación de variables predictoras (X) y variable de interes (y)\n",
    "feature_cols=['season','hour']\n",
    "X = bikes[feature_cols]\n",
    "y = bikes['total']\n",
    "\n",
    "## Dividir la base de datos en entrenamiento y prueba\n",
    "X_train, X_test, y_train, y_test = train_test_split(X, y, test_size=0.2, random_state=1)\n",
    "\n",
    "\n",
    "# Lista de valores para calibrar el criterio de parada de máxima profundidad (max_depth)\n",
    "max_depth_range = range(1, 15)\n",
    "\n",
    "# Lista para guardar los valores del RMSE para cada valor de máxima profundidad (max_depth)\n",
    "accuracy_scores = []\n",
    "\n",
    "# Importación de modelos de sklearn \n",
    "from sklearn.model_selection import cross_val_score\n",
    "from sklearn.tree import DecisionTreeClassifier\n",
    "\n",
    "# Loop para obtener el desempeño del modelo de acuerdo con la máxima profundidad\n",
    "for depth in max_depth_range:\n",
    "    # Definición del árbol de decisión usando DecisionTreeClassifier de la libreria sklearn\n",
    "    clf = DecisionTreeClassifier(max_depth=depth, random_state=1)\n",
    "    accuracy_scores.append(cross_val_score(clf, X_train, y_train, cv=10, scoring='accuracy').mean())\n",
    "\n",
    "# Gráfica max_depth versus RMSE (error del modelo)\n",
    "import matplotlib.pyplot as plt\n",
    "plt.plot(max_depth_range, accuracy_scores)\n",
    "plt.xlabel('max_depth')\n",
    "plt.ylabel('Accuracy')\n",
    "\n",
    "# Mejor accuracy (desempeño del modelo) y su correspondiente max_depth\n",
    "sorted(zip(accuracy_scores, max_depth_range))[::-1][0]\n",
    "\n",
    "# max_depth=4 fue el mejor, se ajusta un árbol usando este valor \n",
    "clf = DecisionTreeClassifier(max_depth=4, random_state=1)\n",
    "clf.fit(X, y)\n",
    "\n",
    "# Uso de la función .feature_importances_ para obtener la importancia de cada variable\n",
    "pd.DataFrame({'feature':feature_cols, 'importance':clf.feature_importances_}).sort_values('importance')"
   ]
  },
  {
   "cell_type": "code",
   "execution_count": 177,
   "metadata": {},
   "outputs": [
    {
     "data": {
      "text/html": [
       "<style>#sk-container-id-4 {color: black;background-color: white;}#sk-container-id-4 pre{padding: 0;}#sk-container-id-4 div.sk-toggleable {background-color: white;}#sk-container-id-4 label.sk-toggleable__label {cursor: pointer;display: block;width: 100%;margin-bottom: 0;padding: 0.3em;box-sizing: border-box;text-align: center;}#sk-container-id-4 label.sk-toggleable__label-arrow:before {content: \"▸\";float: left;margin-right: 0.25em;color: #696969;}#sk-container-id-4 label.sk-toggleable__label-arrow:hover:before {color: black;}#sk-container-id-4 div.sk-estimator:hover label.sk-toggleable__label-arrow:before {color: black;}#sk-container-id-4 div.sk-toggleable__content {max-height: 0;max-width: 0;overflow: hidden;text-align: left;background-color: #f0f8ff;}#sk-container-id-4 div.sk-toggleable__content pre {margin: 0.2em;color: black;border-radius: 0.25em;background-color: #f0f8ff;}#sk-container-id-4 input.sk-toggleable__control:checked~div.sk-toggleable__content {max-height: 200px;max-width: 100%;overflow: auto;}#sk-container-id-4 input.sk-toggleable__control:checked~label.sk-toggleable__label-arrow:before {content: \"▾\";}#sk-container-id-4 div.sk-estimator input.sk-toggleable__control:checked~label.sk-toggleable__label {background-color: #d4ebff;}#sk-container-id-4 div.sk-label input.sk-toggleable__control:checked~label.sk-toggleable__label {background-color: #d4ebff;}#sk-container-id-4 input.sk-hidden--visually {border: 0;clip: rect(1px 1px 1px 1px);clip: rect(1px, 1px, 1px, 1px);height: 1px;margin: -1px;overflow: hidden;padding: 0;position: absolute;width: 1px;}#sk-container-id-4 div.sk-estimator {font-family: monospace;background-color: #f0f8ff;border: 1px dotted black;border-radius: 0.25em;box-sizing: border-box;margin-bottom: 0.5em;}#sk-container-id-4 div.sk-estimator:hover {background-color: #d4ebff;}#sk-container-id-4 div.sk-parallel-item::after {content: \"\";width: 100%;border-bottom: 1px solid gray;flex-grow: 1;}#sk-container-id-4 div.sk-label:hover label.sk-toggleable__label {background-color: #d4ebff;}#sk-container-id-4 div.sk-serial::before {content: \"\";position: absolute;border-left: 1px solid gray;box-sizing: border-box;top: 0;bottom: 0;left: 50%;z-index: 0;}#sk-container-id-4 div.sk-serial {display: flex;flex-direction: column;align-items: center;background-color: white;padding-right: 0.2em;padding-left: 0.2em;position: relative;}#sk-container-id-4 div.sk-item {position: relative;z-index: 1;}#sk-container-id-4 div.sk-parallel {display: flex;align-items: stretch;justify-content: center;background-color: white;position: relative;}#sk-container-id-4 div.sk-item::before, #sk-container-id-4 div.sk-parallel-item::before {content: \"\";position: absolute;border-left: 1px solid gray;box-sizing: border-box;top: 0;bottom: 0;left: 50%;z-index: -1;}#sk-container-id-4 div.sk-parallel-item {display: flex;flex-direction: column;z-index: 1;position: relative;background-color: white;}#sk-container-id-4 div.sk-parallel-item:first-child::after {align-self: flex-end;width: 50%;}#sk-container-id-4 div.sk-parallel-item:last-child::after {align-self: flex-start;width: 50%;}#sk-container-id-4 div.sk-parallel-item:only-child::after {width: 0;}#sk-container-id-4 div.sk-dashed-wrapped {border: 1px dashed gray;margin: 0 0.4em 0.5em 0.4em;box-sizing: border-box;padding-bottom: 0.4em;background-color: white;}#sk-container-id-4 div.sk-label label {font-family: monospace;font-weight: bold;display: inline-block;line-height: 1.2em;}#sk-container-id-4 div.sk-label-container {text-align: center;}#sk-container-id-4 div.sk-container {/* jupyter's `normalize.less` sets `[hidden] { display: none; }` but bootstrap.min.css set `[hidden] { display: none !important; }` so we also need the `!important` here to be able to override the default hidden behavior on the sphinx rendered scikit-learn.org. See: https://github.com/scikit-learn/scikit-learn/issues/21755 */display: inline-block !important;position: relative;}#sk-container-id-4 div.sk-text-repr-fallback {display: none;}</style><div id=\"sk-container-id-4\" class=\"sk-top-container\"><div class=\"sk-text-repr-fallback\"><pre>DecisionTreeRegressor(max_depth=14, random_state=1)</pre><b>In a Jupyter environment, please rerun this cell to show the HTML representation or trust the notebook. <br />On GitHub, the HTML representation is unable to render, please try loading this page with nbviewer.org.</b></div><div class=\"sk-container\" hidden><div class=\"sk-item\"><div class=\"sk-estimator sk-toggleable\"><input class=\"sk-toggleable__control sk-hidden--visually\" id=\"sk-estimator-id-4\" type=\"checkbox\" checked><label for=\"sk-estimator-id-4\" class=\"sk-toggleable__label sk-toggleable__label-arrow\">DecisionTreeRegressor</label><div class=\"sk-toggleable__content\"><pre>DecisionTreeRegressor(max_depth=14, random_state=1)</pre></div></div></div></div></div>"
      ],
      "text/plain": [
       "DecisionTreeRegressor(max_depth=14, random_state=1)"
      ]
     },
     "execution_count": 177,
     "metadata": {},
     "output_type": "execute_result"
    }
   ],
   "source": [
    "dt_regressor = DecisionTreeRegressor(max_depth=depth,random_state = 1)\n",
    "dt_regressor.fit(X_train, y_train)"
   ]
  },
  {
   "cell_type": "code",
   "execution_count": 178,
   "metadata": {},
   "outputs": [
    {
     "name": "stdout",
     "output_type": "stream",
     "text": [
      "R2: 0.6184593633759717\n",
      "MSE: 13010.586734491499\n"
     ]
    }
   ],
   "source": [
    "from sklearn.metrics import r2_score\n",
    "y_pred = dt_regressor.predict(X_test)\n",
    "print(\"R2:\",r2_score(y_test, y_pred))\n",
    "print(\"MSE:\",mean_squared_error(y_test, y_pred, squared=True))"
   ]
  },
  {
   "cell_type": "markdown",
   "metadata": {},
   "source": [
    "#### Desempeño del árbol de regresión\n",
    "según los resultados obtnenidos, el árbol de regresión obtuvo un desempeño mucho mejor, ya que el R2 aumentó a 61,8 % y el MSE disminuyó aproximadamente la mitad a 13011. "
   ]
  },
  {
   "cell_type": "markdown",
   "metadata": {},
   "source": [
    "## Parte B - Métodos de ensamblajes\n",
    "En esta parte del taller se usará el conjunto de datos de Popularidad de Noticias Online. El objetivo es predecir si la notica es popular o no, la popularidad está dada por la cantidad de reacciones en redes sociales. Para más detalles puede visitar el siguiente enlace: [datos](https://archive.ics.uci.edu/ml/datasets/online+news+popularity)."
   ]
  },
  {
   "cell_type": "markdown",
   "metadata": {},
   "source": [
    "### Datos popularidad de noticias"
   ]
  },
  {
   "cell_type": "code",
   "execution_count": 5,
   "metadata": {},
   "outputs": [
    {
     "data": {
      "text/html": [
       "<div>\n",
       "<style scoped>\n",
       "    .dataframe tbody tr th:only-of-type {\n",
       "        vertical-align: middle;\n",
       "    }\n",
       "\n",
       "    .dataframe tbody tr th {\n",
       "        vertical-align: top;\n",
       "    }\n",
       "\n",
       "    .dataframe thead th {\n",
       "        text-align: right;\n",
       "    }\n",
       "</style>\n",
       "<table border=\"1\" class=\"dataframe\">\n",
       "  <thead>\n",
       "    <tr style=\"text-align: right;\">\n",
       "      <th></th>\n",
       "      <th>url</th>\n",
       "      <th>timedelta</th>\n",
       "      <th>n_tokens_title</th>\n",
       "      <th>n_tokens_content</th>\n",
       "      <th>n_unique_tokens</th>\n",
       "      <th>n_non_stop_words</th>\n",
       "      <th>n_non_stop_unique_tokens</th>\n",
       "      <th>num_hrefs</th>\n",
       "      <th>num_self_hrefs</th>\n",
       "      <th>num_imgs</th>\n",
       "      <th>...</th>\n",
       "      <th>min_positive_polarity</th>\n",
       "      <th>max_positive_polarity</th>\n",
       "      <th>avg_negative_polarity</th>\n",
       "      <th>min_negative_polarity</th>\n",
       "      <th>max_negative_polarity</th>\n",
       "      <th>title_subjectivity</th>\n",
       "      <th>title_sentiment_polarity</th>\n",
       "      <th>abs_title_subjectivity</th>\n",
       "      <th>abs_title_sentiment_polarity</th>\n",
       "      <th>Popular</th>\n",
       "    </tr>\n",
       "  </thead>\n",
       "  <tbody>\n",
       "    <tr>\n",
       "      <th>0</th>\n",
       "      <td>http://mashable.com/2014/12/10/cia-torture-rep...</td>\n",
       "      <td>28.0</td>\n",
       "      <td>9.0</td>\n",
       "      <td>188.0</td>\n",
       "      <td>0.732620</td>\n",
       "      <td>1.0</td>\n",
       "      <td>0.844262</td>\n",
       "      <td>5.0</td>\n",
       "      <td>1.0</td>\n",
       "      <td>1.0</td>\n",
       "      <td>...</td>\n",
       "      <td>0.200000</td>\n",
       "      <td>0.80</td>\n",
       "      <td>-0.487500</td>\n",
       "      <td>-0.60</td>\n",
       "      <td>-0.250000</td>\n",
       "      <td>0.9</td>\n",
       "      <td>0.8</td>\n",
       "      <td>0.4</td>\n",
       "      <td>0.8</td>\n",
       "      <td>1</td>\n",
       "    </tr>\n",
       "    <tr>\n",
       "      <th>1</th>\n",
       "      <td>http://mashable.com/2013/10/18/bitlock-kicksta...</td>\n",
       "      <td>447.0</td>\n",
       "      <td>7.0</td>\n",
       "      <td>297.0</td>\n",
       "      <td>0.653199</td>\n",
       "      <td>1.0</td>\n",
       "      <td>0.815789</td>\n",
       "      <td>9.0</td>\n",
       "      <td>4.0</td>\n",
       "      <td>1.0</td>\n",
       "      <td>...</td>\n",
       "      <td>0.160000</td>\n",
       "      <td>0.50</td>\n",
       "      <td>-0.135340</td>\n",
       "      <td>-0.40</td>\n",
       "      <td>-0.050000</td>\n",
       "      <td>0.1</td>\n",
       "      <td>-0.1</td>\n",
       "      <td>0.4</td>\n",
       "      <td>0.1</td>\n",
       "      <td>0</td>\n",
       "    </tr>\n",
       "    <tr>\n",
       "      <th>2</th>\n",
       "      <td>http://mashable.com/2013/07/24/google-glass-po...</td>\n",
       "      <td>533.0</td>\n",
       "      <td>11.0</td>\n",
       "      <td>181.0</td>\n",
       "      <td>0.660377</td>\n",
       "      <td>1.0</td>\n",
       "      <td>0.775701</td>\n",
       "      <td>4.0</td>\n",
       "      <td>3.0</td>\n",
       "      <td>1.0</td>\n",
       "      <td>...</td>\n",
       "      <td>0.136364</td>\n",
       "      <td>1.00</td>\n",
       "      <td>0.000000</td>\n",
       "      <td>0.00</td>\n",
       "      <td>0.000000</td>\n",
       "      <td>0.3</td>\n",
       "      <td>1.0</td>\n",
       "      <td>0.2</td>\n",
       "      <td>1.0</td>\n",
       "      <td>0</td>\n",
       "    </tr>\n",
       "    <tr>\n",
       "      <th>3</th>\n",
       "      <td>http://mashable.com/2013/11/21/these-are-the-m...</td>\n",
       "      <td>413.0</td>\n",
       "      <td>12.0</td>\n",
       "      <td>781.0</td>\n",
       "      <td>0.497409</td>\n",
       "      <td>1.0</td>\n",
       "      <td>0.677350</td>\n",
       "      <td>10.0</td>\n",
       "      <td>3.0</td>\n",
       "      <td>1.0</td>\n",
       "      <td>...</td>\n",
       "      <td>0.100000</td>\n",
       "      <td>1.00</td>\n",
       "      <td>-0.195701</td>\n",
       "      <td>-0.40</td>\n",
       "      <td>-0.071429</td>\n",
       "      <td>0.0</td>\n",
       "      <td>0.0</td>\n",
       "      <td>0.5</td>\n",
       "      <td>0.0</td>\n",
       "      <td>0</td>\n",
       "    </tr>\n",
       "    <tr>\n",
       "      <th>4</th>\n",
       "      <td>http://mashable.com/2014/02/11/parking-ticket-...</td>\n",
       "      <td>331.0</td>\n",
       "      <td>8.0</td>\n",
       "      <td>177.0</td>\n",
       "      <td>0.685714</td>\n",
       "      <td>1.0</td>\n",
       "      <td>0.830357</td>\n",
       "      <td>3.0</td>\n",
       "      <td>2.0</td>\n",
       "      <td>1.0</td>\n",
       "      <td>...</td>\n",
       "      <td>0.100000</td>\n",
       "      <td>0.55</td>\n",
       "      <td>-0.175000</td>\n",
       "      <td>-0.25</td>\n",
       "      <td>-0.100000</td>\n",
       "      <td>0.0</td>\n",
       "      <td>0.0</td>\n",
       "      <td>0.5</td>\n",
       "      <td>0.0</td>\n",
       "      <td>0</td>\n",
       "    </tr>\n",
       "  </tbody>\n",
       "</table>\n",
       "<p>5 rows × 61 columns</p>\n",
       "</div>"
      ],
      "text/plain": [
       "                                                 url  timedelta  \\\n",
       "0  http://mashable.com/2014/12/10/cia-torture-rep...       28.0   \n",
       "1  http://mashable.com/2013/10/18/bitlock-kicksta...      447.0   \n",
       "2  http://mashable.com/2013/07/24/google-glass-po...      533.0   \n",
       "3  http://mashable.com/2013/11/21/these-are-the-m...      413.0   \n",
       "4  http://mashable.com/2014/02/11/parking-ticket-...      331.0   \n",
       "\n",
       "   n_tokens_title  n_tokens_content  n_unique_tokens  n_non_stop_words  \\\n",
       "0             9.0             188.0         0.732620               1.0   \n",
       "1             7.0             297.0         0.653199               1.0   \n",
       "2            11.0             181.0         0.660377               1.0   \n",
       "3            12.0             781.0         0.497409               1.0   \n",
       "4             8.0             177.0         0.685714               1.0   \n",
       "\n",
       "   n_non_stop_unique_tokens  num_hrefs  num_self_hrefs  num_imgs  ...  \\\n",
       "0                  0.844262        5.0             1.0       1.0  ...   \n",
       "1                  0.815789        9.0             4.0       1.0  ...   \n",
       "2                  0.775701        4.0             3.0       1.0  ...   \n",
       "3                  0.677350       10.0             3.0       1.0  ...   \n",
       "4                  0.830357        3.0             2.0       1.0  ...   \n",
       "\n",
       "   min_positive_polarity  max_positive_polarity  avg_negative_polarity  \\\n",
       "0               0.200000                   0.80              -0.487500   \n",
       "1               0.160000                   0.50              -0.135340   \n",
       "2               0.136364                   1.00               0.000000   \n",
       "3               0.100000                   1.00              -0.195701   \n",
       "4               0.100000                   0.55              -0.175000   \n",
       "\n",
       "   min_negative_polarity  max_negative_polarity  title_subjectivity  \\\n",
       "0                  -0.60              -0.250000                 0.9   \n",
       "1                  -0.40              -0.050000                 0.1   \n",
       "2                   0.00               0.000000                 0.3   \n",
       "3                  -0.40              -0.071429                 0.0   \n",
       "4                  -0.25              -0.100000                 0.0   \n",
       "\n",
       "   title_sentiment_polarity  abs_title_subjectivity  \\\n",
       "0                       0.8                     0.4   \n",
       "1                      -0.1                     0.4   \n",
       "2                       1.0                     0.2   \n",
       "3                       0.0                     0.5   \n",
       "4                       0.0                     0.5   \n",
       "\n",
       "   abs_title_sentiment_polarity  Popular  \n",
       "0                           0.8        1  \n",
       "1                           0.1        0  \n",
       "2                           1.0        0  \n",
       "3                           0.0        0  \n",
       "4                           0.0        0  \n",
       "\n",
       "[5 rows x 61 columns]"
      ]
     },
     "execution_count": 5,
     "metadata": {},
     "output_type": "execute_result"
    }
   ],
   "source": [
    "# Lectura de la información de archivo .csv\n",
    "df = pd.read_csv('https://raw.githubusercontent.com/davidzarruk/MIAD_ML_NLP_2023/main/datasets/mashable.csv', index_col=0)\n",
    "df.head()"
   ]
  },
  {
   "cell_type": "code",
   "execution_count": 6,
   "metadata": {},
   "outputs": [
    {
     "data": {
      "text/plain": [
       "0.5"
      ]
     },
     "execution_count": 6,
     "metadata": {},
     "output_type": "execute_result"
    }
   ],
   "source": [
    "# Definición variable de interes y variables predictoras\n",
    "X = df.drop(['url', 'Popular'], axis=1)\n",
    "y = df['Popular']\n",
    "y.mean()"
   ]
  },
  {
   "cell_type": "code",
   "execution_count": 7,
   "metadata": {},
   "outputs": [],
   "source": [
    "# División de la muestra en set de entrenamiento y prueba\n",
    "from sklearn.model_selection import train_test_split\n",
    "X_train, X_test, y_train, y_test = train_test_split(X, y, random_state=1)"
   ]
  },
  {
   "cell_type": "markdown",
   "metadata": {},
   "source": [
    "### Punto 6 - Árbol de decisión y regresión logística\n",
    "En la celda 6 construya un árbol de decisión y una regresión logística. Para el árbol calibre al menos un parámetro y evalúe el desempeño de cada modelo usando las métricas de Accuracy y F1-Score."
   ]
  },
  {
   "cell_type": "code",
   "execution_count": 79,
   "metadata": {},
   "outputs": [
    {
     "name": "stdout",
     "output_type": "stream",
     "text": [
      "0.6453333333333333\n",
      "0.6448598130841121\n",
      "0.614\n",
      "0.6106254203093476\n"
     ]
    }
   ],
   "source": [
    "# Celda 6\n",
    "### Arbol de decisión\n",
    "# Lista de valores para calibrar el criterio de parada de máxima profundidad (max_depth)\n",
    "max_depth_range = range(1, 11)\n",
    "\n",
    "# Lista para guardar los valores del RMSE para cada valor de máxima profundidad (max_depth)\n",
    "accuracy_scores = []\n",
    "\n",
    "# Importación de modelos de sklearn \n",
    "from sklearn.model_selection import cross_val_score\n",
    "from sklearn.tree import DecisionTreeClassifier\n",
    "\n",
    "# Loop para obtener el desempeño del modelo de acuerdo con la máxima profundidad\n",
    "for depth in max_depth_range:\n",
    "    # Definición del árbol de decisión usando DecisionTreeClassifier de la libreria sklearn\n",
    "    clf = DecisionTreeClassifier(max_depth=depth, random_state=1)\n",
    "    accuracy_scores.append(cross_val_score(clf, X_train, y_train, cv=10, scoring='accuracy').mean())\n",
    "\n",
    "# Mejor accuracy (desempeño del modelo) y su correspondiente max_depth\n",
    "sorted(zip(accuracy_scores, max_depth_range))[::-1][0]\n",
    "\n",
    "### Ajuste del modelo y predicciones\n",
    "clf = DecisionTreeClassifier(max_depth=2, random_state=1)\n",
    "clf = clf.fit(X_train, y_train)\n",
    "y_pred = clf.predict(X_test)\n",
    "\n",
    "### Evaluación del modelo\n",
    "from sklearn.metrics import accuracy_score\n",
    "from sklearn.metrics import f1_score\n",
    "print(accuracy_score(y_test, y_pred))\n",
    "print(f1_score(y_test, y_pred))\n",
    "\n",
    "\n",
    "#### Construcción del modelo de regresión logística\n",
    "from sklearn.linear_model import LogisticRegression\n",
    "logreg = LogisticRegression(random_state=1)\n",
    "\n",
    "# Ajustar el modelo\n",
    "logreg.fit(X_train, y_train)\n",
    "\n",
    "y_pred = logreg.predict(X_test)\n",
    "\n",
    "### Evaluación del modelo\n",
    "print(accuracy_score(y_test, y_pred))\n",
    "print(f1_score(y_test, y_pred))"
   ]
  },
  {
   "cell_type": "code",
   "execution_count": 13,
   "metadata": {},
   "outputs": [],
   "source": [
    "from sklearn.metrics import accuracy_score\n",
    "from sklearn.metrics import f1_score"
   ]
  },
  {
   "cell_type": "markdown",
   "metadata": {},
   "source": [
    "### Punto 7 - Votación Mayoritaria\n",
    "En la celda 7 elabore un esamble con la metodología de **Votación mayoritaria** compuesto por 300 muestras bagged donde:\n",
    "\n",
    "-las primeras 100 muestras vienen de árboles de decisión donde max_depth tome un valor de su elección\\\n",
    "-las segundas 100 muestras vienen de árboles de decisión donde min_samples_leaf tome un valor de su elección\\\n",
    "-las últimas 100 muestras vienen de regresiones logísticas\n",
    "\n",
    "Evalúe cada uno de los tres modelos de manera independiente utilizando las métricas de Accuracy y F1-Score, luego evalúe el ensamble de modelos y compare los resultados. \n",
    "\n",
    "Nota: \n",
    "\n",
    "Para este ensamble de 300 modelos, deben hacer votación mayoritaria. Esto lo pueden hacer de distintas maneras. La más \"fácil\" es haciendo la votación \"manualmente\", como se hace a partir del minuto 5:45 del video de Ejemplo práctico de emsablajes en Coursera. Digo que es la más fácil porque si hacen la votación mayoritaria sobre las 300 predicciones van a obtener lo que se espera.\n",
    "\n",
    "Otra opción es: para cada uno de los 3 tipos de modelos, entrenar un ensamble de 100 modelos cada uno. Predecir para cada uno de esos tres ensambles y luego predecir como un ensamble de los 3 ensambles. La cuestión es que la votación mayoritaria al usar los 3 ensambles no necesariamente va a generar el mismo resultado que si hacen la votación mayoritaria directamente sobre los 300 modelos. Entonces, para los que quieran hacer esto, deben hacer ese último cálculo con cuidado.\n",
    "\n",
    "Para los que quieran hacerlo como ensamble de ensambles, digo que se debe hacer el ensamble final con cuidado por lo siguiente. Supongamos que:\n",
    "\n",
    "* para los 100 árboles del primer tipo, la votación mayoritaria es: 55% de los modelos predicen que la clase de una observación es \"1\"\n",
    "* para los 100 árboles del segundo tipo, la votación mayoritaria es: 55% de los modelos predicen que la clase de una observación es \"1\"\n",
    "* para las 100 regresiones logísticas, la votación mayoritaria es: 10% de los modelos predicen que la clase de una observación es \"1\"\n",
    "\n",
    "Si se hace la votación mayoritaria de los 300 modelos, la predicción de esa observación debería ser: (100*55%+100*55%+100*10%)/300 = 40% de los modelos votan porque la predicción debería ser \"1\". Es decir, la predicción del ensamble es \"0\" (dado que menos del 50% de modelos predijo un 1).\n",
    "\n",
    "Sin embargo, si miramos cada ensamble por separado, el primer ensamble predice \"1\", el segundo ensamble predice \"1\" y el último ensamble predice \"0\". Si hago votación mayoritaria sobre esto, la predicción va a ser \"1\", lo cual es distinto a si se hace la votación mayoritaria sobre los 300 modelos."
   ]
  },
  {
   "cell_type": "code",
   "execution_count": 14,
   "metadata": {},
   "outputs": [
    {
     "name": "stdout",
     "output_type": "stream",
     "text": [
      "0.6333333333333333 0.6278755074424899\n"
     ]
    }
   ],
   "source": [
    "# Celda 7\n",
    "\n",
    "########################## ENSAMBLAJE MANUAL ########################################\n",
    "\n",
    "# Creación de 100 muestras de bootstrap\n",
    "n_estimators = 100\n",
    "np.random.seed(123)\n",
    "\n",
    "n_samples = X_train.shape[0]\n",
    "samples = [np.random.choice(a=n_samples, size=n_samples, replace=True) for _ in range(n_estimators)]\n",
    "\n",
    "# Entrenamiento de 100 modelos con las 100 muestras boostrap de árbol de decisión con max_depth= 3\n",
    "np.random.seed(123) \n",
    "seeds = np.random.randint(1, 10000, size=n_estimators)\n",
    "trees = {}\n",
    "for i in range(n_estimators):\n",
    "    trees[i] = DecisionTreeClassifier(max_depth=3, random_state=seeds[i])\n",
    "    trees[i].fit(X_train.iloc[samples[i]], y_train.iloc[samples[i]])\n",
    "    \n",
    "# Predicción para los datos del set de test con cada modelo\n",
    "y_pred_df = pd.DataFrame(index=X_test.index, columns=list(range(n_estimators)))\n",
    "for i in range(n_estimators):\n",
    "    y_pred_df.iloc[:, i] = trees[i].predict(X_test)\n",
    "\n",
    "y_pred_df.head()\n",
    "\n",
    "# Entrenamiento de 100 modelos con las 100 muestras boostrap de árbol de decisión con min_samples_leaf=10\n",
    "np.random.seed(123) \n",
    "seeds = np.random.randint(1, 10000, size=n_estimators)\n",
    "trees = {}\n",
    "for i in range(n_estimators):\n",
    "    trees[i] = DecisionTreeClassifier(min_samples_leaf = 10, random_state=seeds[i])\n",
    "    trees[i].fit(X_train.iloc[samples[i]], y_train.iloc[samples[i]])\n",
    "    \n",
    "# Predicción para los datos del set de test con cada modelo\n",
    "y_pred_df2 = pd.DataFrame(index=X_test.index, columns=list(range(n_estimators)))\n",
    "for i in range(n_estimators):\n",
    "    y_pred_df2.iloc[:, i] = trees[i].predict(X_test)\n",
    "\n",
    "y_pred_df2.head()\n",
    "\n",
    "# Entrenamiento de 100 modelos con las 100 muestras boostrap con regresión logística\n",
    "np.random.seed(123) \n",
    "seeds = np.random.randint(1, 10000, size=n_estimators)\n",
    "trees = {}\n",
    "for i in range(n_estimators):\n",
    "    trees[i] = LogisticRegression(random_state=seeds[i])\n",
    "    trees[i].fit(X_train.iloc[samples[i]], y_train.iloc[samples[i]])\n",
    "    \n",
    "# Predicción para los datos del set de test con cada modelo\n",
    "y_pred_df3 = pd.DataFrame(index=X_test.index, columns=list(range(n_estimators)))\n",
    "for i in range(n_estimators):\n",
    "    y_pred_df3.iloc[:, i] = trees[i].predict(X_test)\n",
    "\n",
    "y_pred_df3.head()\n",
    "\n",
    "## Unión de todas las predicciones\n",
    "y_pred_dfT = pd.concat([y_pred_df, y_pred_df2, y_pred_df3], axis=1)\n",
    "y_pred_dfT.head(5)\n",
    "\n",
    "# Votación mayoritaria\n",
    "y_pred = []\n",
    "for i in range(len(y_pred_dfT)):\n",
    "    if y_pred_dfT.iloc[i,:].sum() >= 150:\n",
    "        y_pred.append(1)\n",
    "    else:\n",
    "        y_pred.append(0)\n",
    "\n",
    "# Desempeño al hacer votación mayoritaria\n",
    "print(accuracy_score(y_pred, y_test),f1_score(y_pred, y_test))"
   ]
  },
  {
   "cell_type": "code",
   "execution_count": 15,
   "metadata": {},
   "outputs": [
    {
     "name": "stdout",
     "output_type": "stream",
     "text": [
      "0.6446666666666667 0.6376614547926581\n",
      "0.656 0.6596306068601584\n",
      "0.618 0.613099257258609\n",
      "0.6446666666666667 0.6376614547926581\n"
     ]
    }
   ],
   "source": [
    "################## ENSAMBLAJE DE ENSAMBLAJES #####################\n",
    "\n",
    "# Definición del modelo BaggingClassifier de la libreria sklearn\n",
    "from sklearn.ensemble import BaggingClassifier\n",
    "clf = BaggingClassifier(base_estimator=DecisionTreeClassifier(max_depth=3), n_estimators=100, bootstrap=True,\n",
    "                        random_state=42, n_jobs=-1, oob_score=True)\n",
    "clf2 = BaggingClassifier(base_estimator=DecisionTreeClassifier(min_samples_leaf=10), n_estimators=100, bootstrap=True,\n",
    "                        random_state=42, n_jobs=-1, oob_score=True)\n",
    "clf3 = BaggingClassifier(base_estimator=LogisticRegression(), n_estimators=100, bootstrap=True,\n",
    "                        random_state=42, n_jobs=-1, oob_score=True)\n",
    "\n",
    "## Modelo de árbol de decisión con max_depth = 3\n",
    "clf.fit(X_train, y_train)\n",
    "y_pred1 = clf.predict(X_test)\n",
    "print(accuracy_score(y_pred1, y_test),f1_score(y_pred1, y_test), )\n",
    "\n",
    "## Modelo de árbol de decisión con min_samples_leaf=10\n",
    "clf2.fit(X_train, y_train)\n",
    "y_pred2 = clf2.predict(X_test)\n",
    "print(accuracy_score(y_pred2, y_test),f1_score(y_pred2, y_test))\n",
    "\n",
    "## Modelo de regresión logística\n",
    "clf3.fit(X_train, y_train)\n",
    "y_pred3 = clf3.predict(X_test)\n",
    "print(accuracy_score(y_pred3, y_test),f1_score(y_pred3, y_test))\n",
    "\n",
    "## Data frame con las estimaciones de los tres modelos\n",
    "y_pred_df = pd.DataFrame()\n",
    "y_pred_df['indíce']= X_test.index\n",
    "y_pred_df['Prediccion1'] = pd.Series(y_pred1)\n",
    "y_pred_df['Prediccion2'] = pd.Series(y_pred2)\n",
    "y_pred_df['Prediccion3'] = pd.Series(y_pred1)\n",
    "y_pred_df.set_index('indíce',drop = True, inplace = True)\n",
    "\n",
    "# Votación mayoritaria\n",
    "y_pred = []\n",
    "for i in range(len(y_pred_df)):\n",
    "    if y_pred_df.iloc[i,:].sum() >= 2:\n",
    "        y_pred.append(1)\n",
    "    else:\n",
    "        y_pred.append(0)\n",
    "\n",
    "## Evaluación del desempeño\n",
    "print(accuracy_score(y_pred, y_test),f1_score(y_pred, y_test))"
   ]
  },
  {
   "cell_type": "markdown",
   "metadata": {},
   "source": [
    "### Punto 8 - Votación Ponderada\n",
    "En la celda 8 elabore un ensamble con la metodología de **Votación ponderada** compuesto por 300 muestras bagged para los mismos tres escenarios del punto 7. Evalúe los modelos utilizando las métricas de Accuracy y F1-Score"
   ]
  },
  {
   "cell_type": "code",
   "execution_count": 16,
   "metadata": {},
   "outputs": [
    {
     "name": "stdout",
     "output_type": "stream",
     "text": [
      "0.6446666666666667 0.638153428377461\n",
      "0.6553333333333333 0.6523201075991929\n",
      "0.6186666666666667 0.6140350877192983\n"
     ]
    }
   ],
   "source": [
    "# Celda 8\n",
    "# Obtención de los pesos alpha de cada modelo de acuerdo al error OOB MODELO 1\n",
    "errors = np.zeros(clf.n_estimators)\n",
    "y_pred_all_ = np.zeros((X_test.shape[0], clf.n_estimators))\n",
    "\n",
    "for i in range(clf.n_estimators):\n",
    "    oob_sample = ~clf.estimators_samples_[i]\n",
    "    y_pred_ = clf.estimators_[i].predict(X_train.values[oob_sample])\n",
    "    errors[i] = accuracy_score(y_pred_, y_train.values[oob_sample])\n",
    "    y_pred_all_[:, i] = clf.estimators_[i].predict(X_test)\n",
    "    \n",
    "alpha1 = (1 - errors) / (1 - errors).sum()\n",
    "y_pred1 = (np.sum(y_pred_all_ * alpha1, axis=1) >= 0.5).astype(int)\n",
    "\n",
    "# Desempeño al hacer votación ponderada\n",
    "print(accuracy_score(y_pred1, y_test),f1_score(y_pred1, y_test))\n",
    "\n",
    "# Obtención de los pesos alpha de cada modelo de acuerdo al error OOB MODELO 2\n",
    "errors = np.zeros(clf2.n_estimators)\n",
    "y_pred_all_ = np.zeros((X_test.shape[0], clf2.n_estimators))\n",
    "\n",
    "for i in range(clf2.n_estimators):\n",
    "    oob_sample = ~clf2.estimators_samples_[i]\n",
    "    y_pred_ = clf2.estimators_[i].predict(X_train.values[oob_sample])\n",
    "    errors[i] = accuracy_score(y_pred_, y_train.values[oob_sample])\n",
    "    y_pred_all_[:, i] = clf2.estimators_[i].predict(X_test)\n",
    "    \n",
    "alpha2 = (1 - errors) / (1 - errors).sum()\n",
    "y_pred2 = (np.sum(y_pred_all_ * alpha2, axis=1) >= 0.5).astype(int)\n",
    "\n",
    "# Desempeño al hacer votación ponderada\n",
    "print(accuracy_score(y_pred2, y_test),f1_score(y_pred2, y_test))\n",
    "\n",
    "# Obtención de los pesos alpha de cada modelo de acuerdo al error OOB MODELO 3\n",
    "errors = np.zeros(clf3.n_estimators)\n",
    "y_pred_all_ = np.zeros((X_test.shape[0], clf3.n_estimators))\n",
    "\n",
    "for i in range(clf3.n_estimators):\n",
    "    oob_sample = ~clf3.estimators_samples_[i]\n",
    "    y_pred_ = clf3.estimators_[i].predict(X_train.values[oob_sample])\n",
    "    errors[i] = accuracy_score(y_pred_, y_train.values[oob_sample])\n",
    "    y_pred_all_[:, i] = clf3.estimators_[i].predict(X_test)\n",
    "    \n",
    "alpha3 = (1 - errors) / (1 - errors).sum()\n",
    "y_pred3 = (np.sum(y_pred_all_ * alpha3, axis=1) >= 0.5).astype(int)\n",
    "\n",
    "# Desempeño al hacer votación ponderada\n",
    "print(accuracy_score(y_pred3, y_test),f1_score(y_pred3, y_test))"
   ]
  },
  {
   "cell_type": "code",
   "execution_count": 23,
   "metadata": {},
   "outputs": [
    {
     "name": "stdout",
     "output_type": "stream",
     "text": [
      "0.6566666666666666 0.656437625083389\n"
     ]
    }
   ],
   "source": [
    "### Cálculo del modelo de ensamblaje \n",
    "from sklearn.ensemble import VotingClassifier\n",
    "eclf2 = VotingClassifier(estimators=[('árbol_1', clf), ('árbol_2', clf2), ('regLog', clf3)], voting='soft', weights=[1,1,1])\n",
    "eclf2.fit(X_train, y_train)\n",
    "\n",
    "## Predicción\n",
    "y_pred = eclf2.predict(X_test)\n",
    "# Desempeño al hacer votación ponderada\n",
    "print(accuracy_score(y_pred, y_test),f1_score(y_pred, y_test))"
   ]
  },
  {
   "cell_type": "markdown",
   "metadata": {},
   "source": [
    "### Punto 9 - Comparación y análisis de resultados\n",
    "En la celda 9 comente sobre los resultados obtenidos con las metodologías usadas en los puntos 7 y 8, compare los resultados y enuncie posibles ventajas o desventajas de cada una de ellas."
   ]
  },
  {
   "cell_type": "markdown",
   "metadata": {},
   "source": [
    "### Votación mayoritaria\n",
    "Según los resultados obtenidos, al realizar el proceso de Bagging por votación mayoritaria los mejores resultados se obtuvieron con los 100 modelos de árbol de decisión con restricción de min_samples_leaf = 10, ya que se obtuvo un accuracy de 65,60 % y un f1_score de 65,96 %, se resalta que en este caso el ensamblaje de los tres modelos no generó mejores resultados, ya que con el ensamblaje de las 300 muestras el accuracy fue de 63,33 % y el f1 score de 62,79 % y con el ensamblaje de los tres ensamblajes el accuracy fue de 64,47 % y el f1 score de 63,77 %.\n",
    "\n",
    "### Votación ponderada\n",
    "Según los resultados obtenidos, en el ensamblaje por votación ponderada, los mejores resultados se obtienen en el ensamblaje global, con un accuracy de 65,67 % y un f1 score de 65,64 %, mientras que en los modelos individuales, los mejores resultados se obtuvieron al igual que en el caso anterior con los 100 modelos de árbol de decisión con restricción de min_samples_leaf = 10 que presentó un accuracy de 65,53 % y un f1 score de 65,23 %.\n",
    "\n",
    "Al comparar ambas metodologías se osberva que los resultados son bastantes similares, sin embargo se presenta un leve aumento en las metricas de desempeño al realizar la estimación por votación ponderada."
   ]
  },
  {
   "cell_type": "code",
   "execution_count": null,
   "metadata": {},
   "outputs": [],
   "source": []
  }
 ],
 "metadata": {
  "kernelspec": {
   "display_name": "Python 3 (ipykernel)",
   "language": "python",
   "name": "python3"
  },
  "language_info": {
   "codemirror_mode": {
    "name": "ipython",
    "version": 3
   },
   "file_extension": ".py",
   "mimetype": "text/x-python",
   "name": "python",
   "nbconvert_exporter": "python",
   "pygments_lexer": "ipython3",
   "version": "3.11.7"
  }
 },
 "nbformat": 4,
 "nbformat_minor": 4
}
